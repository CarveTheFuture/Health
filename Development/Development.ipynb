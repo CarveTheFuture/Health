{
 "metadata": {
  "language_info": {
   "codemirror_mode": {
    "name": "ipython",
    "version": 3
   },
   "file_extension": ".py",
   "mimetype": "text/x-python",
   "name": "python",
   "nbconvert_exporter": "python",
   "pygments_lexer": "ipython3",
   "version": "3.8.3-final"
  },
  "orig_nbformat": 2,
  "kernelspec": {
   "name": "python3",
   "display_name": "Python 3"
  }
 },
 "nbformat": 4,
 "nbformat_minor": 2,
 "cells": [
  {
   "source": [
    "October 2020\n",
    "This notebook is developed by OPA Towobola to explore and organize data and analysis on world trends. The main spheres of inqiry are in energy (production, consumption), health (longevity and disease rates) and development (urbanization and GDP). The initial intent is to link these, so as to determine linkages. \n",
    "One question that could be answered is whether urbanization trends are promoting better or worse health. \n",
    "A similar question that could be answered is whether promiximity to energy sources (power lines) is linked to health trends for any demograhic group in particular.\n",
    "Note: IT is not intended that the TYPE 1 error rate would be checked against a p-value threshold of 0.05 for health indicators. That is because a family would want the threshold to be much higher, when it pertains to their health or the health of a family member."
   ],
   "cell_type": "markdown",
   "metadata": {}
  },
  {
   "cell_type": "code",
   "execution_count": 2,
   "metadata": {},
   "outputs": [],
   "source": [
    "import pandas as pd\n",
    "import numpy as np\n",
    "import matplotlib.pyplot as plt"
   ]
  },
  {
   "source": [
    "The dataframe cap describes the National Material capabilities for 215 countries. It was retrieved from:  \n",
    "https://data.world/cow/national-material-capabilities\n",
    "\n",
    "Singer, J. David, Stuart Bremer, and John Stuckey. (1972). \"Capability Distribution, Uncertainty, and Major Power War, 1820-1965.\" in Bruce Russett (ed) Peace, War, and Numbers, Beverly Hills: Sage, 19-48."
   ],
   "cell_type": "markdown",
   "metadata": {}
  },
  {
   "cell_type": "code",
   "execution_count": 3,
   "metadata": {},
   "outputs": [],
   "source": [
    "cap=pd.read_csv('/home/analyst/Documents/DataScienceImmersive/GitAndJupyter/Trends_Energy_Health/cow-national-material-capabilities/nmc-v4-data.csv')"
   ]
  },
  {
   "source": [
    "Values for total population, urban population, iron and steel production, energy consumption, military personnel, and military expenditure for each state-year were originally collected to construct the composite index of national capabilities. These components are offered here but the user of these data should be warned that the quality and quantity of the data vary greatly from state to state and from year to year. In particular, each of the six indicators has its own idiosyncracies that limit cross-time comparability. Hence, those who use the raw data in time-series analyses should do so with caution. Users of the data are strongly urged to read the NMC codebook."
   ],
   "cell_type": "markdown",
   "metadata": {}
  },
  {
   "cell_type": "code",
   "execution_count": 4,
   "metadata": {},
   "outputs": [
    {
     "output_type": "execute_result",
     "data": {
      "text/plain": [
       "  stateabb  ccode  year  irst  milex  milper    pec    tpop   upop      cinc  \\\n",
       "0      USA      2  1816    80   3823      17  254.0  8659.0  101.0  0.039698   \n",
       "1      USA      2  1817    80   2466      15  277.0  8899.0  106.0  0.035817   \n",
       "2      USA      2  1818    90   1910      14  302.0  9139.0  112.0  0.036126   \n",
       "3      USA      2  1819    90   2301      13  293.0  9379.0  118.0  0.037133   \n",
       "4      USA      2  1820   110   1556      15  303.0  9618.0  124.0  0.037087   \n",
       "\n",
       "   version  \n",
       "0        4  \n",
       "1        4  \n",
       "2        4  \n",
       "3        4  \n",
       "4        4  "
      ],
      "text/html": "<div>\n<style scoped>\n    .dataframe tbody tr th:only-of-type {\n        vertical-align: middle;\n    }\n\n    .dataframe tbody tr th {\n        vertical-align: top;\n    }\n\n    .dataframe thead th {\n        text-align: right;\n    }\n</style>\n<table border=\"1\" class=\"dataframe\">\n  <thead>\n    <tr style=\"text-align: right;\">\n      <th></th>\n      <th>stateabb</th>\n      <th>ccode</th>\n      <th>year</th>\n      <th>irst</th>\n      <th>milex</th>\n      <th>milper</th>\n      <th>pec</th>\n      <th>tpop</th>\n      <th>upop</th>\n      <th>cinc</th>\n      <th>version</th>\n    </tr>\n  </thead>\n  <tbody>\n    <tr>\n      <th>0</th>\n      <td>USA</td>\n      <td>2</td>\n      <td>1816</td>\n      <td>80</td>\n      <td>3823</td>\n      <td>17</td>\n      <td>254.0</td>\n      <td>8659.0</td>\n      <td>101.0</td>\n      <td>0.039698</td>\n      <td>4</td>\n    </tr>\n    <tr>\n      <th>1</th>\n      <td>USA</td>\n      <td>2</td>\n      <td>1817</td>\n      <td>80</td>\n      <td>2466</td>\n      <td>15</td>\n      <td>277.0</td>\n      <td>8899.0</td>\n      <td>106.0</td>\n      <td>0.035817</td>\n      <td>4</td>\n    </tr>\n    <tr>\n      <th>2</th>\n      <td>USA</td>\n      <td>2</td>\n      <td>1818</td>\n      <td>90</td>\n      <td>1910</td>\n      <td>14</td>\n      <td>302.0</td>\n      <td>9139.0</td>\n      <td>112.0</td>\n      <td>0.036126</td>\n      <td>4</td>\n    </tr>\n    <tr>\n      <th>3</th>\n      <td>USA</td>\n      <td>2</td>\n      <td>1819</td>\n      <td>90</td>\n      <td>2301</td>\n      <td>13</td>\n      <td>293.0</td>\n      <td>9379.0</td>\n      <td>118.0</td>\n      <td>0.037133</td>\n      <td>4</td>\n    </tr>\n    <tr>\n      <th>4</th>\n      <td>USA</td>\n      <td>2</td>\n      <td>1820</td>\n      <td>110</td>\n      <td>1556</td>\n      <td>15</td>\n      <td>303.0</td>\n      <td>9618.0</td>\n      <td>124.0</td>\n      <td>0.037087</td>\n      <td>4</td>\n    </tr>\n  </tbody>\n</table>\n</div>"
     },
     "metadata": {},
     "execution_count": 4
    }
   ],
   "source": [
    "cap.head()"
   ]
  },
  {
   "cell_type": "code",
   "execution_count": 6,
   "metadata": {},
   "outputs": [
    {
     "output_type": "execute_result",
     "data": {
      "text/plain": [
       "<bound method DataFrame.info of       stateabb  ccode  year  irst  milex  milper        pec    tpop   upop  \\\n",
       "0          USA      2  1816    80   3823      17  254.00000  8659.0  101.0   \n",
       "1          USA      2  1817    80   2466      15  277.00000  8899.0  106.0   \n",
       "2          USA      2  1818    90   1910      14  302.00000  9139.0  112.0   \n",
       "3          USA      2  1819    90   2301      13  293.00000  9379.0  118.0   \n",
       "4          USA      2  1820   110   1556      15  303.00000  9618.0  124.0   \n",
       "...        ...    ...   ...   ...    ...     ...        ...     ...    ...   \n",
       "14194      WSM    990  2003     0      0       0   44.54492   180.0    0.0   \n",
       "14195      WSM    990  2004     0      0       0   42.77610   182.0    0.0   \n",
       "14196      WSM    990  2005     0      0       0   43.50082   183.0    0.0   \n",
       "14197      WSM    990  2006     0      0       0   44.62415   185.0    0.0   \n",
       "14198      WSM    990  2007     0      0       0   44.93124   187.0    0.0   \n",
       "\n",
       "           cinc  version  \n",
       "0      0.039698        4  \n",
       "1      0.035817        4  \n",
       "2      0.036126        4  \n",
       "3      0.037133        4  \n",
       "4      0.037087        4  \n",
       "...         ...      ...  \n",
       "14194  0.000005        4  \n",
       "14195  0.000005        4  \n",
       "14196  0.000005        4  \n",
       "14197  0.000005        4  \n",
       "14198  0.000005        4  \n",
       "\n",
       "[14199 rows x 11 columns]>"
      ]
     },
     "metadata": {},
     "execution_count": 6
    }
   ],
   "source": [
    "cap.info"
   ]
  },
  {
   "cell_type": "code",
   "execution_count": 7,
   "metadata": {},
   "outputs": [
    {
     "output_type": "execute_result",
     "data": {
      "text/plain": [
       "<bound method NDFrame.describe of       stateabb  ccode  year  irst  milex  milper        pec    tpop   upop  \\\n",
       "0          USA      2  1816    80   3823      17  254.00000  8659.0  101.0   \n",
       "1          USA      2  1817    80   2466      15  277.00000  8899.0  106.0   \n",
       "2          USA      2  1818    90   1910      14  302.00000  9139.0  112.0   \n",
       "3          USA      2  1819    90   2301      13  293.00000  9379.0  118.0   \n",
       "4          USA      2  1820   110   1556      15  303.00000  9618.0  124.0   \n",
       "...        ...    ...   ...   ...    ...     ...        ...     ...    ...   \n",
       "14194      WSM    990  2003     0      0       0   44.54492   180.0    0.0   \n",
       "14195      WSM    990  2004     0      0       0   42.77610   182.0    0.0   \n",
       "14196      WSM    990  2005     0      0       0   43.50082   183.0    0.0   \n",
       "14197      WSM    990  2006     0      0       0   44.62415   185.0    0.0   \n",
       "14198      WSM    990  2007     0      0       0   44.93124   187.0    0.0   \n",
       "\n",
       "           cinc  version  \n",
       "0      0.039698        4  \n",
       "1      0.035817        4  \n",
       "2      0.036126        4  \n",
       "3      0.037133        4  \n",
       "4      0.037087        4  \n",
       "...         ...      ...  \n",
       "14194  0.000005        4  \n",
       "14195  0.000005        4  \n",
       "14196  0.000005        4  \n",
       "14197  0.000005        4  \n",
       "14198  0.000005        4  \n",
       "\n",
       "[14199 rows x 11 columns]>"
      ]
     },
     "metadata": {},
     "execution_count": 7
    }
   ],
   "source": [
    "cap.describe"
   ]
  },
  {
   "cell_type": "code",
   "execution_count": 8,
   "metadata": {},
   "outputs": [
    {
     "output_type": "execute_result",
     "data": {
      "text/plain": [
       "          ccode         year        irst         milex      milper  \\\n",
       "stateabb                                                             \n",
       "AAB        58.0  1994.000000    0.000000  2.214852e+03    0.000000   \n",
       "AFG       700.0  1963.000000   -0.101124  5.505876e+04   73.471910   \n",
       "ALB       339.0  1961.344444   40.433333  6.809377e+04   34.288889   \n",
       "ALG       615.0  1984.500000  591.956522  1.185658e+06  109.391304   \n",
       "AND       232.0  2000.000000    0.000000  0.000000e+00   -0.600000   \n",
       "...         ...          ...         ...           ...         ...   \n",
       "YPR       680.0  1978.500000    0.000000  9.903579e+04   23.791667   \n",
       "YUG       345.0  1942.500000  883.171875  6.208654e+05  150.367188   \n",
       "ZAM       551.0  1985.500000    0.000000  9.700193e+04   15.659091   \n",
       "ZAN       511.0  1963.500000    0.000000  0.000000e+00    0.000000   \n",
       "ZIM       552.0  1986.000000  374.767442  2.390667e+05   33.558140   \n",
       "\n",
       "                    pec          tpop         upop      cinc  version  \n",
       "stateabb                                                               \n",
       "AAB           67.699411     69.444444     0.000000  0.000003      4.0  \n",
       "AFG          668.059311  12624.500000  1191.011364 -0.099306      4.0  \n",
       "ALB         1781.694089   1935.111111   141.211111  0.000489      4.0  \n",
       "ALG       138000.056739  21924.586957  5445.804348  0.003767      4.0  \n",
       "AND           58.124211     72.266667     0.000000  0.000002      4.0  \n",
       "...                 ...           ...          ...       ...      ...  \n",
       "YPR         4022.740917   1866.000000   274.375000  0.000354      4.0  \n",
       "YUG        19631.417031  11908.179688  1278.195312  0.003986      4.0  \n",
       "ZAM         7729.623477   6940.590909  1883.818182  0.000698      4.0  \n",
       "ZAN            1.000000    332.000000     0.000000  0.000017      4.0  \n",
       "ZIM         9362.889558   8747.511628  1517.139535  0.000960      4.0  \n",
       "\n",
       "[215 rows x 10 columns]"
      ],
      "text/html": "<div>\n<style scoped>\n    .dataframe tbody tr th:only-of-type {\n        vertical-align: middle;\n    }\n\n    .dataframe tbody tr th {\n        vertical-align: top;\n    }\n\n    .dataframe thead th {\n        text-align: right;\n    }\n</style>\n<table border=\"1\" class=\"dataframe\">\n  <thead>\n    <tr style=\"text-align: right;\">\n      <th></th>\n      <th>ccode</th>\n      <th>year</th>\n      <th>irst</th>\n      <th>milex</th>\n      <th>milper</th>\n      <th>pec</th>\n      <th>tpop</th>\n      <th>upop</th>\n      <th>cinc</th>\n      <th>version</th>\n    </tr>\n    <tr>\n      <th>stateabb</th>\n      <th></th>\n      <th></th>\n      <th></th>\n      <th></th>\n      <th></th>\n      <th></th>\n      <th></th>\n      <th></th>\n      <th></th>\n      <th></th>\n    </tr>\n  </thead>\n  <tbody>\n    <tr>\n      <th>AAB</th>\n      <td>58.0</td>\n      <td>1994.000000</td>\n      <td>0.000000</td>\n      <td>2.214852e+03</td>\n      <td>0.000000</td>\n      <td>67.699411</td>\n      <td>69.444444</td>\n      <td>0.000000</td>\n      <td>0.000003</td>\n      <td>4.0</td>\n    </tr>\n    <tr>\n      <th>AFG</th>\n      <td>700.0</td>\n      <td>1963.000000</td>\n      <td>-0.101124</td>\n      <td>5.505876e+04</td>\n      <td>73.471910</td>\n      <td>668.059311</td>\n      <td>12624.500000</td>\n      <td>1191.011364</td>\n      <td>-0.099306</td>\n      <td>4.0</td>\n    </tr>\n    <tr>\n      <th>ALB</th>\n      <td>339.0</td>\n      <td>1961.344444</td>\n      <td>40.433333</td>\n      <td>6.809377e+04</td>\n      <td>34.288889</td>\n      <td>1781.694089</td>\n      <td>1935.111111</td>\n      <td>141.211111</td>\n      <td>0.000489</td>\n      <td>4.0</td>\n    </tr>\n    <tr>\n      <th>ALG</th>\n      <td>615.0</td>\n      <td>1984.500000</td>\n      <td>591.956522</td>\n      <td>1.185658e+06</td>\n      <td>109.391304</td>\n      <td>138000.056739</td>\n      <td>21924.586957</td>\n      <td>5445.804348</td>\n      <td>0.003767</td>\n      <td>4.0</td>\n    </tr>\n    <tr>\n      <th>AND</th>\n      <td>232.0</td>\n      <td>2000.000000</td>\n      <td>0.000000</td>\n      <td>0.000000e+00</td>\n      <td>-0.600000</td>\n      <td>58.124211</td>\n      <td>72.266667</td>\n      <td>0.000000</td>\n      <td>0.000002</td>\n      <td>4.0</td>\n    </tr>\n    <tr>\n      <th>...</th>\n      <td>...</td>\n      <td>...</td>\n      <td>...</td>\n      <td>...</td>\n      <td>...</td>\n      <td>...</td>\n      <td>...</td>\n      <td>...</td>\n      <td>...</td>\n      <td>...</td>\n    </tr>\n    <tr>\n      <th>YPR</th>\n      <td>680.0</td>\n      <td>1978.500000</td>\n      <td>0.000000</td>\n      <td>9.903579e+04</td>\n      <td>23.791667</td>\n      <td>4022.740917</td>\n      <td>1866.000000</td>\n      <td>274.375000</td>\n      <td>0.000354</td>\n      <td>4.0</td>\n    </tr>\n    <tr>\n      <th>YUG</th>\n      <td>345.0</td>\n      <td>1942.500000</td>\n      <td>883.171875</td>\n      <td>6.208654e+05</td>\n      <td>150.367188</td>\n      <td>19631.417031</td>\n      <td>11908.179688</td>\n      <td>1278.195312</td>\n      <td>0.003986</td>\n      <td>4.0</td>\n    </tr>\n    <tr>\n      <th>ZAM</th>\n      <td>551.0</td>\n      <td>1985.500000</td>\n      <td>0.000000</td>\n      <td>9.700193e+04</td>\n      <td>15.659091</td>\n      <td>7729.623477</td>\n      <td>6940.590909</td>\n      <td>1883.818182</td>\n      <td>0.000698</td>\n      <td>4.0</td>\n    </tr>\n    <tr>\n      <th>ZAN</th>\n      <td>511.0</td>\n      <td>1963.500000</td>\n      <td>0.000000</td>\n      <td>0.000000e+00</td>\n      <td>0.000000</td>\n      <td>1.000000</td>\n      <td>332.000000</td>\n      <td>0.000000</td>\n      <td>0.000017</td>\n      <td>4.0</td>\n    </tr>\n    <tr>\n      <th>ZIM</th>\n      <td>552.0</td>\n      <td>1986.000000</td>\n      <td>374.767442</td>\n      <td>2.390667e+05</td>\n      <td>33.558140</td>\n      <td>9362.889558</td>\n      <td>8747.511628</td>\n      <td>1517.139535</td>\n      <td>0.000960</td>\n      <td>4.0</td>\n    </tr>\n  </tbody>\n</table>\n<p>215 rows × 10 columns</p>\n</div>"
     },
     "metadata": {},
     "execution_count": 8
    }
   ],
   "source": [
    "cap.groupby(['stateabb']).mean()"
   ]
  },
  {
   "cell_type": "code",
   "execution_count": null,
   "metadata": {},
   "outputs": [],
   "source": [
    "The dataframe energy_intensity describes the energy_intensity for XX countries. It was retrieved from:\n",
    "https://www.eia.gov/international/data/world/other-statistics/energy-intensity-by-gdp-and-population?pd=47&p=000000000000000000000000000000000000000000000000000000002g&u=0&f=A&v=mapbubble&a=-&i=none&vo=value&&t=C&g=00000000000000000000000000000000000000000000000001&l=249-ruvvvvvfvtvnvv1vrvvvvfvvvvvvfvvvou20evvvvvvvvvvnvvvs0008&s=315532800000&e=1483228800000\n",
    "\n",
    "Singer, J. David, Stuart Bremer, and John Stuckey. (1972). \"Capability Distribution, Uncertainty, and Major Power War, 1820-1965.\" in Bruce Russett (ed) Peace, War, and Numbers, Beverly Hills: Sage, 19-48."
   ]
  },
  {
   "cell_type": "code",
   "execution_count": 5,
   "metadata": {},
   "outputs": [],
   "source": [
    "energy_intensity=pd.read_csv('/home/analyst/Documents/DataScienceImmersive/GitAndJupyter/Trends_Energy_Health/Energy_Intensity.csv')"
   ]
  },
  {
   "cell_type": "code",
   "execution_count": 6,
   "metadata": {},
   "outputs": [
    {
     "output_type": "execute_result",
     "data": {
      "text/plain": [
       "       Report generated on: 10-22-2020 18:38:11\n",
       "count                                       453\n",
       "unique                                      395\n",
       "top                                           0\n",
       "freq                                         46"
      ],
      "text/html": "<div>\n<style scoped>\n    .dataframe tbody tr th:only-of-type {\n        vertical-align: middle;\n    }\n\n    .dataframe tbody tr th {\n        vertical-align: top;\n    }\n\n    .dataframe thead th {\n        text-align: right;\n    }\n</style>\n<table border=\"1\" class=\"dataframe\">\n  <thead>\n    <tr style=\"text-align: right;\">\n      <th></th>\n      <th>Report generated on: 10-22-2020 18:38:11</th>\n    </tr>\n  </thead>\n  <tbody>\n    <tr>\n      <th>count</th>\n      <td>453</td>\n    </tr>\n    <tr>\n      <th>unique</th>\n      <td>395</td>\n    </tr>\n    <tr>\n      <th>top</th>\n      <td>0</td>\n    </tr>\n    <tr>\n      <th>freq</th>\n      <td>46</td>\n    </tr>\n  </tbody>\n</table>\n</div>"
     },
     "metadata": {},
     "execution_count": 6
    }
   ],
   "source": [
    "energy_intensity.describe()"
   ]
  },
  {
   "cell_type": "code",
   "execution_count": 7,
   "metadata": {},
   "outputs": [
    {
     "output_type": "execute_result",
     "data": {
      "text/plain": [
       "                                                                                                                                                                                                                                                                                                                                                                                                                                                                                                                                                                                                                                                                                                                                                               Report generated on: 10-22-2020 18:38:11\n",
       "API                         NaN                              1980               1981               1982               1983              1984              1985              1986              1987              1988              1989              1990              1991              1992              1993               1994              1995              1996               1997              1998              1999              2000              2001              2002               2003              2004              2005              2006              2007              2008              2009              2010              2011              2012              2013              2014              2015               2016                                                   2017\n",
       "NaN                         World                            NaN                NaN                NaN                NaN               NaN               NaN               NaN               NaN               NaN               NaN               NaN               NaN               NaN               NaN                NaN               NaN               NaN                NaN               NaN               NaN               NaN               NaN               NaN                NaN               NaN               NaN               NaN               NaN               NaN               NaN               NaN               NaN               NaN               NaN               NaN               NaN                NaN                                                     NaN\n",
       "INTL.47-33-WORL-MBTUPP.A        Population (MMBtu/person)    67.91081890506271  65.88003081978702  64.73518912997594  64.46835462508781 66.93993307316717 67.45604760999827 67.63566807501796 68.58145276655517 69.89938170860415 69.20005470659962 66.95601516773034 65.33934221241643 64.11514337363013 63.490016299335146 63.25455502199958 64.08839653070908 64.87786598244482  64.15303936796795 63.80783007788215 64.1706759732809  65.34136952330712 65.03270475852821 65.60433006093488  67.07200673593267 69.66141584453447 71.10729591100238 72.53236202442254 73.56723931530162 73.58492458478524 71.79059815014222 75.09791461472777 76.28432182446899 77.11224333573227 77.71549474546487 77.52445177483693 77.20441030026474  76.84609938508487                         77.05710379419631\n",
       "INTL.47-34-WORL-TBTUUSDPP.A     GDP (1000 Btu/2015$ GDP PPP) 10.507671402755376 10.156074254915934 10.107764583729967 9.951432496585243 9.906089325712268 9.792357763550793 9.66087003402304  9.589412332492403 8.114449780553022 7.872801106892004 7.111441749187909 6.943064401225063 6.79928315665653  6.7040120089216195 6.577374253932765 6.546078463832497 6.4638372495102265 6.227786156252506 6.126787896143819 6.035024664372376 5.938112841386824 5.844516416508408 5.8044287791861064 5.793482612885132 5.791659757812074 5.711028971168824 5.597447836689079 5.451354135343248 5.356392820197864 5.314606591691603 5.343033939350548 5.279228841825214 5.227874559839857 5.156755364777075 5.02958339114253  4.9007282741402705 4.7745445447309605                        4.665597721263524\n",
       "NaN                         Afghanistan                      NaN                NaN                NaN                NaN               NaN               NaN               NaN               NaN               NaN               NaN               NaN               NaN               NaN               NaN                NaN               NaN               NaN                NaN               NaN               NaN               NaN               NaN               NaN                NaN               NaN               NaN               NaN               NaN               NaN               NaN               NaN               NaN               NaN               NaN               NaN               NaN                NaN                                                     NaN"
      ],
      "text/html": "<div>\n<style scoped>\n    .dataframe tbody tr th:only-of-type {\n        vertical-align: middle;\n    }\n\n    .dataframe tbody tr th {\n        vertical-align: top;\n    }\n\n    .dataframe thead th {\n        text-align: right;\n    }\n</style>\n<table border=\"1\" class=\"dataframe\">\n  <thead>\n    <tr style=\"text-align: right;\">\n      <th></th>\n      <th></th>\n      <th></th>\n      <th></th>\n      <th></th>\n      <th></th>\n      <th></th>\n      <th></th>\n      <th></th>\n      <th></th>\n      <th></th>\n      <th></th>\n      <th></th>\n      <th></th>\n      <th></th>\n      <th></th>\n      <th></th>\n      <th></th>\n      <th></th>\n      <th></th>\n      <th></th>\n      <th></th>\n      <th></th>\n      <th></th>\n      <th></th>\n      <th></th>\n      <th></th>\n      <th></th>\n      <th></th>\n      <th></th>\n      <th></th>\n      <th></th>\n      <th></th>\n      <th></th>\n      <th></th>\n      <th></th>\n      <th></th>\n      <th></th>\n      <th></th>\n      <th>Report generated on: 10-22-2020 18:38:11</th>\n    </tr>\n  </thead>\n  <tbody>\n    <tr>\n      <th>API</th>\n      <th>NaN</th>\n      <th>1980</th>\n      <th>1981</th>\n      <th>1982</th>\n      <th>1983</th>\n      <th>1984</th>\n      <th>1985</th>\n      <th>1986</th>\n      <th>1987</th>\n      <th>1988</th>\n      <th>1989</th>\n      <th>1990</th>\n      <th>1991</th>\n      <th>1992</th>\n      <th>1993</th>\n      <th>1994</th>\n      <th>1995</th>\n      <th>1996</th>\n      <th>1997</th>\n      <th>1998</th>\n      <th>1999</th>\n      <th>2000</th>\n      <th>2001</th>\n      <th>2002</th>\n      <th>2003</th>\n      <th>2004</th>\n      <th>2005</th>\n      <th>2006</th>\n      <th>2007</th>\n      <th>2008</th>\n      <th>2009</th>\n      <th>2010</th>\n      <th>2011</th>\n      <th>2012</th>\n      <th>2013</th>\n      <th>2014</th>\n      <th>2015</th>\n      <th>2016</th>\n      <td>2017</td>\n    </tr>\n    <tr>\n      <th>NaN</th>\n      <th>World</th>\n      <th>NaN</th>\n      <th>NaN</th>\n      <th>NaN</th>\n      <th>NaN</th>\n      <th>NaN</th>\n      <th>NaN</th>\n      <th>NaN</th>\n      <th>NaN</th>\n      <th>NaN</th>\n      <th>NaN</th>\n      <th>NaN</th>\n      <th>NaN</th>\n      <th>NaN</th>\n      <th>NaN</th>\n      <th>NaN</th>\n      <th>NaN</th>\n      <th>NaN</th>\n      <th>NaN</th>\n      <th>NaN</th>\n      <th>NaN</th>\n      <th>NaN</th>\n      <th>NaN</th>\n      <th>NaN</th>\n      <th>NaN</th>\n      <th>NaN</th>\n      <th>NaN</th>\n      <th>NaN</th>\n      <th>NaN</th>\n      <th>NaN</th>\n      <th>NaN</th>\n      <th>NaN</th>\n      <th>NaN</th>\n      <th>NaN</th>\n      <th>NaN</th>\n      <th>NaN</th>\n      <th>NaN</th>\n      <th>NaN</th>\n      <td>NaN</td>\n    </tr>\n    <tr>\n      <th>INTL.47-33-WORL-MBTUPP.A</th>\n      <th>Population (MMBtu/person)</th>\n      <th>67.91081890506271</th>\n      <th>65.88003081978702</th>\n      <th>64.73518912997594</th>\n      <th>64.46835462508781</th>\n      <th>66.93993307316717</th>\n      <th>67.45604760999827</th>\n      <th>67.63566807501796</th>\n      <th>68.58145276655517</th>\n      <th>69.89938170860415</th>\n      <th>69.20005470659962</th>\n      <th>66.95601516773034</th>\n      <th>65.33934221241643</th>\n      <th>64.11514337363013</th>\n      <th>63.490016299335146</th>\n      <th>63.25455502199958</th>\n      <th>64.08839653070908</th>\n      <th>64.87786598244482</th>\n      <th>64.15303936796795</th>\n      <th>63.80783007788215</th>\n      <th>64.1706759732809</th>\n      <th>65.34136952330712</th>\n      <th>65.03270475852821</th>\n      <th>65.60433006093488</th>\n      <th>67.07200673593267</th>\n      <th>69.66141584453447</th>\n      <th>71.10729591100238</th>\n      <th>72.53236202442254</th>\n      <th>73.56723931530162</th>\n      <th>73.58492458478524</th>\n      <th>71.79059815014222</th>\n      <th>75.09791461472777</th>\n      <th>76.28432182446899</th>\n      <th>77.11224333573227</th>\n      <th>77.71549474546487</th>\n      <th>77.52445177483693</th>\n      <th>77.20441030026474</th>\n      <th>76.84609938508487</th>\n      <td>77.05710379419631</td>\n    </tr>\n    <tr>\n      <th>INTL.47-34-WORL-TBTUUSDPP.A</th>\n      <th>GDP (1000 Btu/2015$ GDP PPP)</th>\n      <th>10.507671402755376</th>\n      <th>10.156074254915934</th>\n      <th>10.107764583729967</th>\n      <th>9.951432496585243</th>\n      <th>9.906089325712268</th>\n      <th>9.792357763550793</th>\n      <th>9.66087003402304</th>\n      <th>9.589412332492403</th>\n      <th>8.114449780553022</th>\n      <th>7.872801106892004</th>\n      <th>7.111441749187909</th>\n      <th>6.943064401225063</th>\n      <th>6.79928315665653</th>\n      <th>6.7040120089216195</th>\n      <th>6.577374253932765</th>\n      <th>6.546078463832497</th>\n      <th>6.4638372495102265</th>\n      <th>6.227786156252506</th>\n      <th>6.126787896143819</th>\n      <th>6.035024664372376</th>\n      <th>5.938112841386824</th>\n      <th>5.844516416508408</th>\n      <th>5.8044287791861064</th>\n      <th>5.793482612885132</th>\n      <th>5.791659757812074</th>\n      <th>5.711028971168824</th>\n      <th>5.597447836689079</th>\n      <th>5.451354135343248</th>\n      <th>5.356392820197864</th>\n      <th>5.314606591691603</th>\n      <th>5.343033939350548</th>\n      <th>5.279228841825214</th>\n      <th>5.227874559839857</th>\n      <th>5.156755364777075</th>\n      <th>5.02958339114253</th>\n      <th>4.9007282741402705</th>\n      <th>4.7745445447309605</th>\n      <td>4.665597721263524</td>\n    </tr>\n    <tr>\n      <th>NaN</th>\n      <th>Afghanistan</th>\n      <th>NaN</th>\n      <th>NaN</th>\n      <th>NaN</th>\n      <th>NaN</th>\n      <th>NaN</th>\n      <th>NaN</th>\n      <th>NaN</th>\n      <th>NaN</th>\n      <th>NaN</th>\n      <th>NaN</th>\n      <th>NaN</th>\n      <th>NaN</th>\n      <th>NaN</th>\n      <th>NaN</th>\n      <th>NaN</th>\n      <th>NaN</th>\n      <th>NaN</th>\n      <th>NaN</th>\n      <th>NaN</th>\n      <th>NaN</th>\n      <th>NaN</th>\n      <th>NaN</th>\n      <th>NaN</th>\n      <th>NaN</th>\n      <th>NaN</th>\n      <th>NaN</th>\n      <th>NaN</th>\n      <th>NaN</th>\n      <th>NaN</th>\n      <th>NaN</th>\n      <th>NaN</th>\n      <th>NaN</th>\n      <th>NaN</th>\n      <th>NaN</th>\n      <th>NaN</th>\n      <th>NaN</th>\n      <th>NaN</th>\n      <td>NaN</td>\n    </tr>\n  </tbody>\n</table>\n</div>"
     },
     "metadata": {},
     "execution_count": 7
    }
   ],
   "source": [
    "energy_intensity.head()"
   ]
  },
  {
   "cell_type": "code",
   "execution_count": null,
   "metadata": {},
   "outputs": [],
   "source": [
    "The dataframe development index describes the development index for XX countries. It was retrieved from:\n",
    ": https://data.humdata.org/dataset/human-development-index-hdi\n"
   ]
  },
  {
   "cell_type": "code",
   "execution_count": 8,
   "metadata": {},
   "outputs": [],
   "source": [
    "dev_index=pd.read_csv('/home/analyst/Documents/DataScienceImmersive/GitAndJupyter/Trends_Energy_Health/hdro-05b5d8f1-9e7f-4379-9958-125c203d12ac/human-development-index-hdi-1.csv')"
   ]
  },
  {
   "cell_type": "code",
   "execution_count": 9,
   "metadata": {},
   "outputs": [
    {
     "output_type": "execute_result",
     "data": {
      "text/plain": [
       "   id                 utc_created                 utc_updated      country  \\\n",
       "0   1  2016-01-07 10:10:52.689964  2016-01-07 10:10:52.690139  Afghanistan   \n",
       "1   2  2016-01-07 10:10:52.689964  2016-01-07 10:10:52.690139  Afghanistan   \n",
       "2   3  2016-01-07 10:10:52.689964  2016-01-07 10:10:52.690139  Afghanistan   \n",
       "3   4  2016-01-07 10:10:52.689964  2016-01-07 10:10:52.690139  Afghanistan   \n",
       "4   5  2016-01-07 10:10:52.689964  2016-01-07 10:10:52.690139  Afghanistan   \n",
       "\n",
       "  country_code  indicator_code                                  indicator  \\\n",
       "0          AFG          137506  HDI: Human development index (HDIg) value   \n",
       "1          AFG          137506  HDI: Human development index (HDIg) value   \n",
       "2          AFG          137506  HDI: Human development index (HDIg) value   \n",
       "3          AFG          137506  HDI: Human development index (HDIg) value   \n",
       "4          AFG          137506  HDI: Human development index (HDIg) value   \n",
       "\n",
       "   value  year  \n",
       "0  0.230  1980  \n",
       "1  0.271  1985  \n",
       "2  0.296  1990  \n",
       "3  0.306  1995  \n",
       "4  0.341  2000  "
      ],
      "text/html": "<div>\n<style scoped>\n    .dataframe tbody tr th:only-of-type {\n        vertical-align: middle;\n    }\n\n    .dataframe tbody tr th {\n        vertical-align: top;\n    }\n\n    .dataframe thead th {\n        text-align: right;\n    }\n</style>\n<table border=\"1\" class=\"dataframe\">\n  <thead>\n    <tr style=\"text-align: right;\">\n      <th></th>\n      <th>id</th>\n      <th>utc_created</th>\n      <th>utc_updated</th>\n      <th>country</th>\n      <th>country_code</th>\n      <th>indicator_code</th>\n      <th>indicator</th>\n      <th>value</th>\n      <th>year</th>\n    </tr>\n  </thead>\n  <tbody>\n    <tr>\n      <th>0</th>\n      <td>1</td>\n      <td>2016-01-07 10:10:52.689964</td>\n      <td>2016-01-07 10:10:52.690139</td>\n      <td>Afghanistan</td>\n      <td>AFG</td>\n      <td>137506</td>\n      <td>HDI: Human development index (HDIg) value</td>\n      <td>0.230</td>\n      <td>1980</td>\n    </tr>\n    <tr>\n      <th>1</th>\n      <td>2</td>\n      <td>2016-01-07 10:10:52.689964</td>\n      <td>2016-01-07 10:10:52.690139</td>\n      <td>Afghanistan</td>\n      <td>AFG</td>\n      <td>137506</td>\n      <td>HDI: Human development index (HDIg) value</td>\n      <td>0.271</td>\n      <td>1985</td>\n    </tr>\n    <tr>\n      <th>2</th>\n      <td>3</td>\n      <td>2016-01-07 10:10:52.689964</td>\n      <td>2016-01-07 10:10:52.690139</td>\n      <td>Afghanistan</td>\n      <td>AFG</td>\n      <td>137506</td>\n      <td>HDI: Human development index (HDIg) value</td>\n      <td>0.296</td>\n      <td>1990</td>\n    </tr>\n    <tr>\n      <th>3</th>\n      <td>4</td>\n      <td>2016-01-07 10:10:52.689964</td>\n      <td>2016-01-07 10:10:52.690139</td>\n      <td>Afghanistan</td>\n      <td>AFG</td>\n      <td>137506</td>\n      <td>HDI: Human development index (HDIg) value</td>\n      <td>0.306</td>\n      <td>1995</td>\n    </tr>\n    <tr>\n      <th>4</th>\n      <td>5</td>\n      <td>2016-01-07 10:10:52.689964</td>\n      <td>2016-01-07 10:10:52.690139</td>\n      <td>Afghanistan</td>\n      <td>AFG</td>\n      <td>137506</td>\n      <td>HDI: Human development index (HDIg) value</td>\n      <td>0.341</td>\n      <td>2000</td>\n    </tr>\n  </tbody>\n</table>\n</div>"
     },
     "metadata": {},
     "execution_count": 9
    }
   ],
   "source": [
    "dev_index.head()"
   ]
  },
  {
   "cell_type": "code",
   "execution_count": 10,
   "metadata": {},
   "outputs": [
    {
     "output_type": "execute_result",
     "data": {
      "text/plain": [
       "                id  indicator_code        value         year\n",
       "count  2122.000000          2122.0  2122.000000  2122.000000\n",
       "mean   1061.500000        137506.0     0.647283  2003.229029\n",
       "std     612.712956             0.0     0.168339     9.828916\n",
       "min       1.000000        137506.0     0.191000  1980.000000\n",
       "25%     531.250000        137506.0     0.514250  2000.000000\n",
       "50%    1061.500000        137506.0     0.679000  2007.000000\n",
       "75%    1591.750000        137506.0     0.776000  2011.000000\n",
       "max    2122.000000        137506.0     0.944000  2013.000000"
      ],
      "text/html": "<div>\n<style scoped>\n    .dataframe tbody tr th:only-of-type {\n        vertical-align: middle;\n    }\n\n    .dataframe tbody tr th {\n        vertical-align: top;\n    }\n\n    .dataframe thead th {\n        text-align: right;\n    }\n</style>\n<table border=\"1\" class=\"dataframe\">\n  <thead>\n    <tr style=\"text-align: right;\">\n      <th></th>\n      <th>id</th>\n      <th>indicator_code</th>\n      <th>value</th>\n      <th>year</th>\n    </tr>\n  </thead>\n  <tbody>\n    <tr>\n      <th>count</th>\n      <td>2122.000000</td>\n      <td>2122.0</td>\n      <td>2122.000000</td>\n      <td>2122.000000</td>\n    </tr>\n    <tr>\n      <th>mean</th>\n      <td>1061.500000</td>\n      <td>137506.0</td>\n      <td>0.647283</td>\n      <td>2003.229029</td>\n    </tr>\n    <tr>\n      <th>std</th>\n      <td>612.712956</td>\n      <td>0.0</td>\n      <td>0.168339</td>\n      <td>9.828916</td>\n    </tr>\n    <tr>\n      <th>min</th>\n      <td>1.000000</td>\n      <td>137506.0</td>\n      <td>0.191000</td>\n      <td>1980.000000</td>\n    </tr>\n    <tr>\n      <th>25%</th>\n      <td>531.250000</td>\n      <td>137506.0</td>\n      <td>0.514250</td>\n      <td>2000.000000</td>\n    </tr>\n    <tr>\n      <th>50%</th>\n      <td>1061.500000</td>\n      <td>137506.0</td>\n      <td>0.679000</td>\n      <td>2007.000000</td>\n    </tr>\n    <tr>\n      <th>75%</th>\n      <td>1591.750000</td>\n      <td>137506.0</td>\n      <td>0.776000</td>\n      <td>2011.000000</td>\n    </tr>\n    <tr>\n      <th>max</th>\n      <td>2122.000000</td>\n      <td>137506.0</td>\n      <td>0.944000</td>\n      <td>2013.000000</td>\n    </tr>\n  </tbody>\n</table>\n</div>"
     },
     "metadata": {},
     "execution_count": 10
    }
   ],
   "source": [
    "dev_index.describe()"
   ]
  },
  {
   "cell_type": "code",
   "execution_count": 11,
   "metadata": {},
   "outputs": [
    {
     "output_type": "stream",
     "name": "stdout",
     "text": [
      "<class 'pandas.core.frame.DataFrame'>\nRangeIndex: 2122 entries, 0 to 2121\nData columns (total 9 columns):\n #   Column          Non-Null Count  Dtype  \n---  ------          --------------  -----  \n 0   id              2122 non-null   int64  \n 1   utc_created     2122 non-null   object \n 2   utc_updated     2122 non-null   object \n 3   country         2122 non-null   object \n 4   country_code    2122 non-null   object \n 5   indicator_code  2122 non-null   int64  \n 6   indicator       2122 non-null   object \n 7   value           2122 non-null   float64\n 8   year            2122 non-null   int64  \ndtypes: float64(1), int64(3), object(5)\nmemory usage: 149.3+ KB\n"
     ]
    }
   ],
   "source": [
    "dev_index.info()"
   ]
  },
  {
   "cell_type": "code",
   "execution_count": 13,
   "metadata": {},
   "outputs": [
    {
     "output_type": "execute_result",
     "data": {
      "text/plain": [
       "                                        id  indicator_code     value  \\\n",
       "country                                                                \n",
       "Afghanistan                            7.0        137506.0  0.380308   \n",
       "Albania                               29.0        137506.0  0.671077   \n",
       "Algeria                              563.0        137506.0  0.651154   \n",
       "Andorra                               37.5        137506.0  0.830750   \n",
       "Angola                                18.0        137506.0  0.481333   \n",
       "...                                    ...             ...       ...   \n",
       "Venezuela (Bolivarian Republic of)  2039.0        137506.0  0.712462   \n",
       "Vietnam                             2052.0        137506.0  0.574538   \n",
       "Yemen                               2078.0        137506.0  0.461000   \n",
       "Zambia                              2103.0        137506.0  0.479308   \n",
       "Zimbabwe                            2116.0        137506.0  0.456308   \n",
       "\n",
       "                                           year  \n",
       "country                                          \n",
       "Afghanistan                         2001.769231  \n",
       "Albania                             2001.769231  \n",
       "Algeria                             2001.769231  \n",
       "Andorra                             2011.500000  \n",
       "Angola                              2008.111111  \n",
       "...                                         ...  \n",
       "Venezuela (Bolivarian Republic of)  2001.769231  \n",
       "Vietnam                             2001.769231  \n",
       "Yemen                               2005.272727  \n",
       "Zambia                              2001.769231  \n",
       "Zimbabwe                            2001.769231  \n",
       "\n",
       "[186 rows x 4 columns]"
      ],
      "text/html": "<div>\n<style scoped>\n    .dataframe tbody tr th:only-of-type {\n        vertical-align: middle;\n    }\n\n    .dataframe tbody tr th {\n        vertical-align: top;\n    }\n\n    .dataframe thead th {\n        text-align: right;\n    }\n</style>\n<table border=\"1\" class=\"dataframe\">\n  <thead>\n    <tr style=\"text-align: right;\">\n      <th></th>\n      <th>id</th>\n      <th>indicator_code</th>\n      <th>value</th>\n      <th>year</th>\n    </tr>\n    <tr>\n      <th>country</th>\n      <th></th>\n      <th></th>\n      <th></th>\n      <th></th>\n    </tr>\n  </thead>\n  <tbody>\n    <tr>\n      <th>Afghanistan</th>\n      <td>7.0</td>\n      <td>137506.0</td>\n      <td>0.380308</td>\n      <td>2001.769231</td>\n    </tr>\n    <tr>\n      <th>Albania</th>\n      <td>29.0</td>\n      <td>137506.0</td>\n      <td>0.671077</td>\n      <td>2001.769231</td>\n    </tr>\n    <tr>\n      <th>Algeria</th>\n      <td>563.0</td>\n      <td>137506.0</td>\n      <td>0.651154</td>\n      <td>2001.769231</td>\n    </tr>\n    <tr>\n      <th>Andorra</th>\n      <td>37.5</td>\n      <td>137506.0</td>\n      <td>0.830750</td>\n      <td>2011.500000</td>\n    </tr>\n    <tr>\n      <th>Angola</th>\n      <td>18.0</td>\n      <td>137506.0</td>\n      <td>0.481333</td>\n      <td>2008.111111</td>\n    </tr>\n    <tr>\n      <th>...</th>\n      <td>...</td>\n      <td>...</td>\n      <td>...</td>\n      <td>...</td>\n    </tr>\n    <tr>\n      <th>Venezuela (Bolivarian Republic of)</th>\n      <td>2039.0</td>\n      <td>137506.0</td>\n      <td>0.712462</td>\n      <td>2001.769231</td>\n    </tr>\n    <tr>\n      <th>Vietnam</th>\n      <td>2052.0</td>\n      <td>137506.0</td>\n      <td>0.574538</td>\n      <td>2001.769231</td>\n    </tr>\n    <tr>\n      <th>Yemen</th>\n      <td>2078.0</td>\n      <td>137506.0</td>\n      <td>0.461000</td>\n      <td>2005.272727</td>\n    </tr>\n    <tr>\n      <th>Zambia</th>\n      <td>2103.0</td>\n      <td>137506.0</td>\n      <td>0.479308</td>\n      <td>2001.769231</td>\n    </tr>\n    <tr>\n      <th>Zimbabwe</th>\n      <td>2116.0</td>\n      <td>137506.0</td>\n      <td>0.456308</td>\n      <td>2001.769231</td>\n    </tr>\n  </tbody>\n</table>\n<p>186 rows × 4 columns</p>\n</div>"
     },
     "metadata": {},
     "execution_count": 13
    }
   ],
   "source": [
    "dev_index.groupby(['country']).mean()"
   ]
  }
 ]
}